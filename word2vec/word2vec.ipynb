{
 "cells": [
  {
   "cell_type": "markdown",
   "metadata": {
    "collapsed": true,
    "pycharm": {
     "name": "#%% md\n"
    }
   },
   "source": [
    "# 实现word2vec\n"
   ]
  },
  {
   "cell_type": "code",
   "execution_count": 56,
   "outputs": [],
   "source": [
    "from gensim.models import Word2Vec"
   ],
   "metadata": {
    "collapsed": false,
    "pycharm": {
     "name": "#%%\n"
    }
   }
  },
  {
   "cell_type": "markdown",
   "source": [
    "1. 读取数据"
   ],
   "metadata": {
    "collapsed": false,
    "pycharm": {
     "name": "#%% md\n"
    }
   }
  },
  {
   "cell_type": "code",
   "execution_count": 77,
   "outputs": [],
   "source": [
    "file_path = '../data/word2vec/icwb2-data/training/msr_training.utf8'\n",
    "\n",
    "sen_list = [] # list->str: 句子\n",
    "with open(file_path, encoding='utf-8') as f:\n",
    "    for line in f.readlines():\n",
    "        sen_list.append(line)"
   ],
   "metadata": {
    "collapsed": false,
    "pycharm": {
     "name": "#%%\n"
    }
   }
  },
  {
   "cell_type": "markdown",
   "source": [
    "2. 清理数据"
   ],
   "metadata": {
    "collapsed": false,
    "pycharm": {
     "name": "#%% md\n"
    }
   }
  },
  {
   "cell_type": "code",
   "execution_count": 78,
   "outputs": [],
   "source": [
    "import re"
   ],
   "metadata": {
    "collapsed": false,
    "pycharm": {
     "name": "#%%\n"
    }
   }
  },
  {
   "cell_type": "code",
   "execution_count": 79,
   "outputs": [],
   "source": [
    "# 只保留空格和字符（汉字，英语等）\n",
    "data_list = []\n",
    "for sen in sen_list:\n",
    "    sen = re.sub(r'\\W(?!\\S)', '', sen).split() # 只保留汉字，空格 不知道为什么这么写有用\n",
    "    sen = list(filter(lambda word: len(word) != 1, sen)) # 去除单字\n",
    "    data_list.append(sen) # 不可以使用split(' ') 它会严格按照一个空格来进行划分\n",
    "\n",
    "# 去除停用词\n",
    "stopword_file_path = '../data/word2vec/cn_stopwords.txt'\n",
    "stopwords = [i.strip() for i in open(stopword_file_path, encoding='utf-8').readlines()]\n",
    "\n",
    "def pretty_cut(sen):\n",
    "    '''\n",
    "    去除停用词\n",
    "    :param sen: list 句子的分词list\n",
    "    :return:\n",
    "    '''\n",
    "    r_sen = []\n",
    "    for word in sen:\n",
    "        if word not in stopwords:\n",
    "            r_sen.append(word)\n",
    "    return r_sen\n",
    "\n",
    "data_list = list(map(lambda x: pretty_cut(x), data_list))"
   ],
   "metadata": {
    "collapsed": false,
    "pycharm": {
     "name": "#%%\n"
    }
   }
  },
  {
   "cell_type": "markdown",
   "source": [
    "3. 统计数据"
   ],
   "metadata": {
    "collapsed": false,
    "pycharm": {
     "name": "#%% md\n"
    }
   }
  },
  {
   "cell_type": "code",
   "execution_count": 80,
   "outputs": [],
   "source": [
    "from collections import Counter"
   ],
   "metadata": {
    "collapsed": false,
    "pycharm": {
     "name": "#%%\n"
    }
   }
  },
  {
   "cell_type": "code",
   "execution_count": 81,
   "outputs": [
    {
     "data": {
      "text/plain": "(83863,\n [('发展', 5976),\n  ('经济', 5063),\n  ('中国', 4976),\n  ('一个', 4739),\n  ('工作', 4445),\n  ('企业', 4433),\n  ('问题', 4276),\n  ('国家', 3636),\n  ('进行', 3619),\n  ('政府', 3144)])"
     },
     "execution_count": 81,
     "metadata": {},
     "output_type": "execute_result"
    }
   ],
   "source": [
    "counter = Counter()\n",
    "for data in data_list:\n",
    "    counter.update(data)\n",
    "\n",
    "len(counter), counter.most_common(10)"
   ],
   "metadata": {
    "collapsed": false,
    "pycharm": {
     "name": "#%%\n"
    }
   }
  },
  {
   "cell_type": "markdown",
   "source": [
    "4. 构建模型"
   ],
   "metadata": {
    "collapsed": false,
    "pycharm": {
     "name": "#%% md\n"
    }
   }
  },
  {
   "cell_type": "code",
   "execution_count": 82,
   "outputs": [],
   "source": [
    "model =  Word2Vec(sentences=data_list, size=100, window=5, min_count=5, workers=4, sg=0)"
   ],
   "metadata": {
    "collapsed": false,
    "pycharm": {
     "name": "#%%\n"
    }
   }
  },
  {
   "cell_type": "code",
   "execution_count": 83,
   "outputs": [
    {
     "data": {
      "text/plain": "[('上海', 0.9082496166229248),\n ('近日', 0.9048246145248413),\n ('本报', 0.8812147974967957),\n ('４月１４日', 0.8725495934486389),\n ('主办', 0.8707386255264282),\n ('浦东', 0.8684402704238892),\n ('广州', 0.867500901222229),\n ('日前', 0.8642042875289917),\n ('中国青年政治学院', 0.8616960048675537),\n ('天津', 0.8601998090744019)]"
     },
     "execution_count": 83,
     "metadata": {},
     "output_type": "execute_result"
    }
   ],
   "source": [
    "model.wv.most_similar('北京')"
   ],
   "metadata": {
    "collapsed": false,
    "pycharm": {
     "name": "#%%\n"
    }
   }
  },
  {
   "cell_type": "code",
   "execution_count": 90,
   "outputs": [
    {
     "data": {
      "text/plain": "[('战士', 0.9523284435272217),\n ('同学', 0.9513710737228394),\n ('教给', 0.931329607963562),\n ('孝敬', 0.9291872382164001),\n ('后来', 0.9266383051872253),\n ('因材施教', 0.9154665470123291),\n ('喜欢', 0.9122165441513062),\n ('感动', 0.9115886688232422),\n ('回家', 0.9093741774559021),\n ('终日', 0.9086799621582031)]"
     },
     "execution_count": 90,
     "metadata": {},
     "output_type": "execute_result"
    }
   ],
   "source": [
    "model.wv.most_similar('老师')"
   ],
   "metadata": {
    "collapsed": false,
    "pycharm": {
     "name": "#%%\n"
    }
   }
  },
  {
   "cell_type": "code",
   "execution_count": 44,
   "outputs": [
    {
     "data": {
      "text/plain": "76"
     },
     "execution_count": 44,
     "metadata": {},
     "output_type": "execute_result"
    }
   ],
   "source": [],
   "metadata": {
    "collapsed": false,
    "pycharm": {
     "name": "#%%\n"
    }
   }
  },
  {
   "cell_type": "code",
   "execution_count": null,
   "outputs": [],
   "source": [],
   "metadata": {
    "collapsed": false,
    "pycharm": {
     "name": "#%%\n"
    }
   }
  }
 ],
 "metadata": {
  "kernelspec": {
   "display_name": "Python 3",
   "language": "python",
   "name": "python3"
  },
  "language_info": {
   "codemirror_mode": {
    "name": "ipython",
    "version": 2
   },
   "file_extension": ".py",
   "mimetype": "text/x-python",
   "name": "python",
   "nbconvert_exporter": "python",
   "pygments_lexer": "ipython2",
   "version": "2.7.6"
  }
 },
 "nbformat": 4,
 "nbformat_minor": 0
}